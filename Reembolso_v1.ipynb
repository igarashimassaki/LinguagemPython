{
  "nbformat": 4,
  "nbformat_minor": 0,
  "metadata": {
    "colab": {
      "private_outputs": true,
      "provenance": [],
      "include_colab_link": true
    },
    "kernelspec": {
      "name": "python3",
      "display_name": "Python 3"
    },
    "language_info": {
      "name": "python"
    }
  },
  "cells": [
    {
      "cell_type": "markdown",
      "metadata": {
        "id": "view-in-github",
        "colab_type": "text"
      },
      "source": [
        "<a href=\"https://colab.research.google.com/github/igarashimassaki/LinguagemPython/blob/main/Reembolso_v1.ipynb\" target=\"_parent\"><img src=\"https://colab.research.google.com/assets/colab-badge.svg\" alt=\"Open In Colab\"/></a>"
      ]
    },
    {
      "cell_type": "markdown",
      "source": [
        "# **REEMBOLSO - Versão 1.0 - Escrito em linguagem Python!***\n",
        "## **Desenvolvido pelo Prof. Massaki**\n",
        "## Programa para calcular reembolso; além de ROTA, DISTÂNCIA e TEMPO para o deslocamento entre dois endereços a serem fornecidos por você!\")\n",
        "\n",
        "\n"
      ],
      "metadata": {
        "id": "NSVXlt944uUz"
      }
    },
    {
      "cell_type": "code",
      "source": [
        "# Primeiramente execute o instalador PIP e instale a biblioteca googlemaps\n",
        "!pip install googlemaps"
      ],
      "metadata": {
        "id": "YcLfa-lCnVuO"
      },
      "execution_count": null,
      "outputs": []
    },
    {
      "cell_type": "code",
      "source": [
        "# Example requests for Google Maps API\n",
        "import googlemaps #https://pypi.org/project/googlemaps/\n",
        "from datetime import datetime\n",
        "print(\"Reembolso - Versão 1.0 (Prof. Massaki de O. Igarashi)\")\n",
        "print(\"PROGRAMA PARA CALCULAR Reembolso; além de ROTA, DISTÂNCIA e TEMPO para o deslocamento entre dois endereços a serem fornecidos por você!\")\n",
        "print(\"Por favor, insira primeiramente os dados do ENDEREÇO DE PARTIDA e em seguida os dados do ENDEREÇO DE DESTINO:\")\n",
        "print(\"=========================================================================================================================================\")\n",
        "Chave = input(\"Digite sua Chave de API GoogleMaps:\")\n",
        "# TODO: Replace the API key below with a valid API key. Will not work otherwise.\n",
        "gmaps = googlemaps.Client(key=Chave) #atualizada em 11jan24 e-mail massaki.igarashi@gmail.com\n",
        "\n",
        "rua = input(\"Rua: \")\n",
        "numero = input(\"Nº: \")\n",
        "bairro = input(\"Bairro: \")\n",
        "cidade = input(\"Cidade: \")\n",
        "pais = \"Brazil\"\n",
        "endereco = str(rua + \", \" + numero + \", \" + bairro + \", \" + cidade + \", \" + pais)\n",
        "address = endereco\n",
        "geocode_result = gmaps.geocode(address)\n",
        "print(\"Endereço de PARTIDA: \", address)\n",
        "LatLon = str(geocode_result[0][\"geometry\"][\"location\"])\n",
        "lat1 = float(LatLon[7:19])\n",
        "print(\"A Latitude é \", lat1)\n",
        "lon1 = float(LatLon[28:38])\n",
        "print(\"A Longitude é \", lon1)\n",
        "print(\"======================================================\")\n",
        "lat = lat1\n",
        "lon = lon1\n",
        "reverse_geocode_result = gmaps.reverse_geocode((lat, lon))\n",
        "\n",
        "rua = input(\"Rua: \")\n",
        "numero = input(\"Nº: \")\n",
        "bairro = input(\"Bairro: \")\n",
        "cidade = input(\"Cidade: \")\n",
        "pais = \"Brazil\"\n",
        "endereco = str(rua + \", \" + numero + \", \" + bairro + \", \" + cidade + \", \" + pais)\n",
        "address = endereco\n",
        "geocode_result = gmaps.geocode(address)\n",
        "\n",
        "print(\"Para o Endereço: \", address)\n",
        "LatLon = str(geocode_result[0][\"geometry\"][\"location\"])\n",
        "lat2 = float(LatLon[7:19])  # Substring: https://www.freecodecamp.org/news/how-to-substring-a-string-in-python/\n",
        "print(\"A Latitude é \", lat2)\n",
        "lon2 = float(LatLon[28:39])\n",
        "print(\"A Longitude é \", lon2)\n",
        "\n",
        "print(\"\\nReverse geocoding...\")\n",
        "print(\"Coordinates: \",lat2,lon2,\"Address:\",reverse_geocode_result[0][\"formatted_address\"])\n",
        "\n",
        "# Request driving directions between UBC Okanagan and UBC Vancouver\n",
        "now = datetime.now()\n",
        "directions_result = gmaps.directions(address,\n",
        "                                     reverse_geocode_result[0][\"formatted_address\"],\n",
        "                                     mode=\"driving\",\n",
        "                                     departure_time=now)\n",
        "print(\"\\nDriving directions...\")\n",
        "leg = directions_result[0]['legs'][0]\n",
        "print(\"Start address:\",leg['start_address'],\"\\nDestination address:\",leg['end_address'])\n",
        "print(\"Distance:\",leg['distance']['text'],\"Time:\",leg['duration']['text'])\n",
        "i = 1\n",
        "for step in leg['steps']:\n",
        "    print(\"Step\",i,\":\",step['duration']['text'], step['html_instructions'])\n",
        "    i=i+1\n",
        "print(\"Para calcular o VALOR do REEMBOLSO, favor digitar o valor pago em R$/km rodado:\")\n",
        "ValorKM = input(\"Digite o valor em R$ a reenbolsar por km rodado: \")\n",
        "print(\"=================================================================================\")\n",
        "Distancia = leg['distance']['text']\n",
        "d = Distancia.split('km')\n",
        "print(\"Distância entre os dois endereços:\",leg['distance']['text'])\n",
        "print(\"Valor a ser reembolsado = R$ \", str(round(float(ValorKM)*float(d[0]), 3)))"
      ],
      "metadata": {
        "id": "tAswqoSXkbc7"
      },
      "execution_count": null,
      "outputs": []
    },
    {
      "cell_type": "code",
      "source": [
        "str(round(float(ValorKM)*float(d[0]), 3))"
      ],
      "metadata": {
        "id": "6uJ775KI6OGI"
      },
      "execution_count": null,
      "outputs": []
    }
  ]
}