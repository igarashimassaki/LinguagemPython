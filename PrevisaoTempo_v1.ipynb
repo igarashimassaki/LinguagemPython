{
  "nbformat": 4,
  "nbformat_minor": 0,
  "metadata": {
    "colab": {
      "provenance": [],
      "include_colab_link": true
    },
    "kernelspec": {
      "name": "python3",
      "display_name": "Python 3"
    },
    "language_info": {
      "name": "python"
    }
  },
  "cells": [
    {
      "cell_type": "markdown",
      "metadata": {
        "id": "view-in-github",
        "colab_type": "text"
      },
      "source": [
        "<a href=\"https://colab.research.google.com/github/igarashimassaki/LinguagemPython/blob/main/PrevisaoTempo_v1.ipynb\" target=\"_parent\"><img src=\"https://colab.research.google.com/assets/colab-badge.svg\" alt=\"Open In Colab\"/></a>"
      ]
    },
    {
      "cell_type": "markdown",
      "source": [
        "# **PrevisaoTempo - Versão 1.0 - Escrito em linguagem Python!**\n",
        "## **Desenvolvido pelo Prof. Massaki**\n",
        "### Programa para obter a previsão do tempo para a cidade cujo nome você fornecer."
      ],
      "metadata": {
        "id": "70TZ8RNKFDIT"
      }
    },
    {
      "cell_type": "code",
      "source": [
        "!pip install deep_translator"
      ],
      "metadata": {
        "colab": {
          "base_uri": "https://localhost:8080/"
        },
        "id": "VoxVgt-sEVwK",
        "outputId": "bacef228-fd70-4ba5-9205-06dd50454823"
      },
      "execution_count": null,
      "outputs": [
        {
          "output_type": "stream",
          "name": "stdout",
          "text": [
            "Requirement already satisfied: deep_translator in /usr/local/lib/python3.10/dist-packages (1.11.4)\n",
            "Requirement already satisfied: beautifulsoup4<5.0.0,>=4.9.1 in /usr/local/lib/python3.10/dist-packages (from deep_translator) (4.12.3)\n",
            "Requirement already satisfied: requests<3.0.0,>=2.23.0 in /usr/local/lib/python3.10/dist-packages (from deep_translator) (2.31.0)\n",
            "Requirement already satisfied: soupsieve>1.2 in /usr/local/lib/python3.10/dist-packages (from beautifulsoup4<5.0.0,>=4.9.1->deep_translator) (2.5)\n",
            "Requirement already satisfied: charset-normalizer<4,>=2 in /usr/local/lib/python3.10/dist-packages (from requests<3.0.0,>=2.23.0->deep_translator) (3.3.2)\n",
            "Requirement already satisfied: idna<4,>=2.5 in /usr/local/lib/python3.10/dist-packages (from requests<3.0.0,>=2.23.0->deep_translator) (3.6)\n",
            "Requirement already satisfied: urllib3<3,>=1.21.1 in /usr/local/lib/python3.10/dist-packages (from requests<3.0.0,>=2.23.0->deep_translator) (2.0.7)\n",
            "Requirement already satisfied: certifi>=2017.4.17 in /usr/local/lib/python3.10/dist-packages (from requests<3.0.0,>=2.23.0->deep_translator) (2024.2.2)\n"
          ]
        }
      ]
    },
    {
      "cell_type": "code",
      "source": [
        "from deep_translator import GoogleTranslator\n",
        "API_KEY = \"a30bd09c7884982c30901f15edb9a21e\"\n",
        "city_name = \"Campinas\"\n",
        "LINK = \"https://api.openweathermap.org/data/3.0/onecall?q={Cidade}&appid={API_KEY}\"\n",
        "# import required modules\n",
        "import requests, json\n",
        "\n",
        "# Enter your API key here\n",
        "api_key = \"a30bd09c7884982c30901f15edb9a21e\"\n",
        "\n",
        "# base_url variable to store url\n",
        "base_url = \"http://api.openweathermap.org/data/2.5/weather?\"\n",
        "\n",
        "# Give city name\n",
        "city_name = input(\"Enter city name : \")\n",
        "\n",
        "# complete_url variable to store\n",
        "# complete url address\n",
        "complete_url = base_url + \"appid=\" + api_key + \"&q=\" + city_name\n",
        "\n",
        "# get method of requests module\n",
        "# return response object\n",
        "response = requests.get(complete_url)\n",
        "\n",
        "# json method of response object\n",
        "# convert json format data into\n",
        "# python format data\n",
        "x = response.json()\n",
        "\n",
        "print(x)\n",
        "\n",
        "# Now x contains list of nested dictionaries\n",
        "# Check the value of \"cod\" key is equal to\n",
        "# \"404\", means city is found otherwise,\n",
        "# city is not found\n",
        "if x[\"cod\"] != \"404\":\n",
        "\n",
        "    # store the value of \"main\"\n",
        "    # key in variable y\n",
        "    y = x[\"main\"]\n",
        "\n",
        "    # store the value corresponding\n",
        "    # to the \"temp\" key of y\n",
        "    current_temperature = y[\"temp\"]\n",
        "\n",
        "    # store the value corresponding\n",
        "    # to the \"pressure\" key of y\n",
        "    current_pressure = y[\"pressure\"]\n",
        "\n",
        "    # store the value corresponding\n",
        "    # to the \"humidity\" key of y\n",
        "    current_humidity = y[\"humidity\"]\n",
        "\n",
        "    # store the value of \"weather\"\n",
        "    # key in variable z\n",
        "    z = x[\"weather\"]\n",
        "\n",
        "    # store the value corresponding\n",
        "    # to the \"description\" key at\n",
        "    # the 0th index of z\n",
        "    weather_description = z[0][\"description\"]\n",
        "    TC = round(float(current_temperature) - 273.15, 3)\n",
        "    tradutor = GoogleTranslator(source= \"en\", target= \"pt\")\n",
        "    traducao = tradutor.translate(str(weather_description))\n",
        "    # print following values\n",
        "    print(\"Temperatura (ºC) = \" +\n",
        "                    str(TC) +\n",
        "          #\"\\n Temperatura (ºK) = \" +\n",
        "          #          str(current_temperature) +\n",
        "          \"\\n Pressão Atmosférica (hPa) = \" +\n",
        "                    str(current_pressure) +\n",
        "          \"\\n Umidade (%) = \" +\n",
        "                    str(current_humidity) +\n",
        "          \"\\n Descrição = \" +\n",
        "                    str(traducao) + \"(\" + str(weather_description)+\")\")\n",
        "\n",
        "else:\n",
        "    print(\" City Not Found \")"
      ],
      "metadata": {
        "colab": {
          "base_uri": "https://localhost:8080/"
        },
        "id": "8xXKnWmZ3A35",
        "outputId": "36c273a6-97db-4955-bee6-ae1b5863580a"
      },
      "execution_count": null,
      "outputs": [
        {
          "output_type": "stream",
          "name": "stdout",
          "text": [
            "Enter city name : Jundiaí\n",
            "{'coord': {'lon': -46.8842, 'lat': -23.1864}, 'weather': [{'id': 803, 'main': 'Clouds', 'description': 'broken clouds', 'icon': '04d'}], 'base': 'stations', 'main': {'temp': 301.02, 'feels_like': 304.64, 'temp_min': 295.73, 'temp_max': 301.64, 'pressure': 1006, 'humidity': 78, 'sea_level': 1006, 'grnd_level': 925}, 'visibility': 10000, 'wind': {'speed': 0.87, 'deg': 8, 'gust': 1.54}, 'clouds': {'all': 73}, 'dt': 1708542390, 'sys': {'type': 1, 'id': 8393, 'country': 'BR', 'sunrise': 1708505946, 'sunset': 1708551820}, 'timezone': -10800, 'id': 3459462, 'name': 'Jundiaí', 'cod': 200}\n",
            "Temperatura (ºC) = 27.87\n",
            " Pressão Atmosférica (hPa) = 1006\n",
            " Umidade (%) = 78\n",
            " Descrição = nuvens quebradas(broken clouds)\n"
          ]
        }
      ]
    }
  ]
}