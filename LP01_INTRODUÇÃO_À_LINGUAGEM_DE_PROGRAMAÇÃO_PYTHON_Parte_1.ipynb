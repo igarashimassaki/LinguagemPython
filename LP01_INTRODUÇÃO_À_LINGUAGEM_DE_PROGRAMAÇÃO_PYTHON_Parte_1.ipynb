{
  "nbformat": 4,
  "nbformat_minor": 0,
  "metadata": {
    "colab": {
      "private_outputs": true,
      "provenance": [],
      "include_colab_link": true
    },
    "kernelspec": {
      "name": "python3",
      "display_name": "Python 3"
    },
    "language_info": {
      "name": "python"
    }
  },
  "cells": [
    {
      "cell_type": "markdown",
      "metadata": {
        "id": "view-in-github",
        "colab_type": "text"
      },
      "source": [
        "<a href=\"https://colab.research.google.com/github/igarashimassaki/LinguagemPython/blob/main/LP01_INTRODU%C3%87%C3%83O_%C3%80_LINGUAGEM_DE_PROGRAMA%C3%87%C3%83O_PYTHON_Parte_1.ipynb\" target=\"_parent\"><img src=\"https://colab.research.google.com/assets/colab-badge.svg\" alt=\"Open In Colab\"/></a>"
      ]
    },
    {
      "cell_type": "markdown",
      "source": [
        "#**Neste módulo abordaremos:**\n",
        "  - ### **Definições e Conceitos básicos**\n",
        "  - ### **Desenvolvimento de softwares**\n",
        "  - ### **Compiladores x Interpretadores**\n",
        "  - ### **Principais Interpretadores Python**\n",
        "  - ### **Os 10 Passos iniciais importantes:**\n",
        "    1. Definir o interpretador;\n",
        "    2. Aprenda a criar comentários;\n",
        "    3. Aprenda a importar bibliotecas;\n",
        "    4. Sempre IDENTAR CORRETAMENTE seu programa;\n",
        "    5. Saiba o que é programação orientada a objetos e seus pilares;\n",
        "    6. Entenda o conceito de variável;\n",
        "    7. Aprenda a usar os notebooks e a linguagem de texto MARKDOWN;\n",
        "    8. Sempre salve o que você fez;\n",
        "    9. Aproveite e salve também cópia no GoogleDrive e no GIT HUB\n",
        "    10.Saiba que a linguagem Python fará muito uso de bibliotecas e funções\n",
        "  - ### **Alguns Conceitos iniciais:**\n",
        "    - ### Função **input()**\n",
        "    - ### Função **int()**\n",
        "    - ### Função **print()**\n",
        "    - ### Estrutura Condicional **if**\n"
      ],
      "metadata": {
        "id": "PYuyDd3SGe6j"
      }
    },
    {
      "cell_type": "markdown",
      "source": [
        "[Clique e acesse material complementar](https://github.com/igarashimassaki/LinguagemPython/blob/main/Python01%20-%20Conceitos%20Introdut%C3%B3rios%20de%20Python.pdf)"
      ],
      "metadata": {
        "id": "pvmiZGHh2a4x"
      }
    },
    {
      "cell_type": "markdown",
      "source": [
        "#**00 - Definições e Conceitos básicos**\n",
        "<div align=\"justify\">\n",
        "\n",
        "> Uma **linguagem de Programação** é um conjunto de **instruções lógicas** e símbolos escritas em um código fonte que permite a nós humanos traduzirmos nossos pensamentos em instruções que os computadores possam entender (já que a eletrônica é essencialmente binária). Este código pode ser compilado e transformado em um programa de computador, ou usado como script interpretado; que informará instruções de processamento ao computador.\n",
        "\n",
        "## Conforme o dicionário explica, **Linguagem** é qualquer meio sistemático (sistema de símbolos ou código) capaz de comunicar ideias ou sentimentos;\n",
        "\n",
        "## **Portanto,**\n",
        "  > ## **Linguagem de Programação** tem o objetivo de comunicar, dar instruções à um computador ou máquina para atingir determinada finalidade.\n",
        "\n",
        "  > ##### Globalmente, escolheu-se a lingua inglesa como uma forma de comunicação global entre os povos; é por isso que **praticamente todas as Linguagens de Programação fazem uso de símbolos e palavras na lingua inglesa**; por isso, tão importante quanto gostar de matemática, é saber também a língua inglesa; isto ajudará você a programar (*inclusive, os termos chave para buscar dicas e soluções auxiliares na internet são palavras em inglês*)\n",
        "\n",
        "\n",
        "  > *Existem inúmeras linguagens de programação usadas em todo o planeta, mas as mais conhecidas são:* **Python, R, PHP, o Ruby, JavaScript, C, o C++, o Erlang, o Haskell, o Rust, Go, Julia,** etc..\n",
        "\n",
        "\n",
        "\n",
        "</div>"
      ],
      "metadata": {
        "id": "5lQ41bdUsmWh"
      }
    },
    {
      "cell_type": "markdown",
      "source": [
        "# 00.1 - E o que são **instruções lógicas?**\n",
        "\n",
        "Correspondem à sequência de passos (ações) necessários para que o programa cumpra seu objetivo. Nesse sentido, é importante uma breve leitura sobre **Lógica de Programação.**"
      ],
      "metadata": {
        "id": "sLXz7BvSrR_6"
      }
    },
    {
      "cell_type": "markdown",
      "source": [
        "# **00.2 LÓGICA DE PROGRAMAÇÃO**\n",
        "\n",
        "<div align=\"justify\">\n",
        "\n",
        "#### Basicamente, nossas ações seguem uma sequência lógica; mas sequer damos atenção a isso! Por exemplo, ao fazer uma análise do nosso cotidiano, perceberemos que nossas ações são consequência de uma cadeia de outras ações menores que nos levaram até uma atitude final.\n",
        "\n",
        "#### Exemplo: O simples do ato de acordar até tomamos café da manhã.\n",
        "\n",
        "**Então qual seria a sequência de ações menores** que efetuamos ao 1.\t**Acordar; 2.\tPreparamos o café com auxílio de uma cafeteira elétrica; 3.\t**Colocamos o café numa caneca e finalmente 4.tomamos o café?\n",
        "\n",
        "Ao detalhar este processo somos capazes de estipular uma sequência de ações menores que nos levaram ao ato final de beber este café. Esta sequência pode ser:\n",
        "\n",
        "**Ao acordar:**\n",
        "\n",
        "  1.\tMe espreguiço e abro os olhos;\n",
        "  2.\tLevanto-me da cama;\n",
        "  3.\tCalço os chinelos;\n",
        "  4.\tCaminho até o corredor;\n",
        "  5.\tCaminho pelo corredor até a cozinha;\n",
        "\n",
        "Na cozinha,\n",
        "  6.\tPego os recipientes do pó de café e do açúcar no armário;\n",
        "  7.\tColoco os recipientes ao lado da cafeteira;\n",
        "  8.\tPego uma colher de sopa e de café na gaveta;\n",
        "  9.\tCom a colher de sopa, coloco o pó de café dentro da cafeteira;\n",
        "  10.\tPego um copo com água\n",
        "  11.\tColoco água no compartimento específico;\n",
        "\n",
        "Após inserir todos os ingredientes na máquina:\n",
        "  12.\tAperto o botão de ligar;\n",
        "\n",
        "Quando o café está pronto:\n",
        "  13.\tPego a caneca e pires;\n",
        "  14.\tDespejo o café dentro de uma caneca;\n",
        "  15.\tAdoço o café;\n",
        "  16.\tColoco a caneca com café sobre o pires junto à colher de café;\n",
        "\n",
        "**Bebo o café.**\n",
        "\n",
        "Se detalharmos ainda mais este processo, certamente incluiremos mais etapas nesta sequência de pequenas ações.\n",
        "No cotidiano estas pequenas ações passam muitas vezes despercebidas, mas na lógica de programação, estipular uma sequência de etapas é um procedimento muito importante e necessário, uma vez que, diferente dos seres humanos, os computadores naturalmente não são capazes de prever comportamentos que não estejam descritos ou para o qual não tenha sido preliminarmente treinado.\n",
        "Assim, para a solução de um problema, por exemplo: programar uma máquina, desenvolver um software, criar um jogo, ou realizar qualquer ação que necessite de código, certamente precisaremos estipular quais passos o computador deverá seguir para chegar ao nosso objetivo final.\n",
        "O ato de pensar logicamente para estipular sequências de passos para a resolução de um problema recebe o nome de lógica de programação; já a sequência narrativa desses eventos, algoritmo.\n",
        "\n",
        "**Logo,**\n",
        "\n",
        "Um algoritmo corresponde à sequência de passos necessários para se atingir um objetivo; ou seja, é a organização clara e precisa de uma sequência de instruções voltadas à resolução de um problema específico.\n",
        "\n",
        "Assim, o primeiro passo para qualquer programador é criar o algoritmo e avaliar se o resultado obtido condiz com a solução esperada. Em seguida, define-se a linguagem de programação a ser utilizada na implementação (codificação) do algoritmo documentado.\n",
        "\n",
        "Existem inúmeras linguagens de programação (Python, Java, C, C++, C#, Delphi, Visual Basic, Julia, etc); e cada uma delas tem suas particularidades, como sua sintaxe, seus tipos de dados e sua orientação, mas a lógica por trás de todas é a mesma.\n",
        "\n",
        "Em outras palavras, entender e dominar a lógica de programação é a porta de entrada para tornar-se um(a) programador(a), seja em front-end ou em back-end.\n",
        "\n",
        "  > Front-end (ou FrondEnd) é a área de programação responsável pelo desenvolvimento da parte visível dos programas, ou seja, cuida do visual de site, aplicativo e das plataformas. O exemplo mais comum de front-end é a interface dos sites. O front-end não existe sozinho e anda acompanhado do back-end para que o produto ofereça uma boa experiência ao usuário.\n",
        "\n",
        "\n",
        "  > Back-end (ou BackEnd) é toda a parte da programação voltada ao funcionamento interno de um software, site, aplicativo. Ou seja, é tudo aquilo que está por trás da interface de uma aplicação: seus sistemas, banco de dados, toda parte de segurança de dados, envio e recebimento de informações, armazenamento e etc.\n",
        "\n",
        "Por que algumas pessoas associam gostar de Programação com gostar de matemática?\n",
        "Provavelmente porque o aprendizado da lógica de programação envolve iniciar pela revisão de bases numéricas, e conversão entre bases. Portanto, gostar de matemática ajudará sim, principalmente na parte de lógica. Inclusive, existem diversos livros do ensino fundamental que possuem atividades de lógica matemática aplicada e este seria um bom ponto de partida para esse aprendizado!\n",
        "\n",
        "</div>\n",
        "\n",
        "### **Algumas frases para inspirar você a programar:**\n",
        "\n",
        "<div align=\"justify\">\n",
        "\n",
        "  > \"Todos neste país deveriam aprender a programar um computador porque te ensina como pensar\" (do inglês “Everybody in this country should learn how to program a computer because it teaches you how to think\" - Steve Jobs).\n",
        "\n",
        "\n",
        "  Não menos importante,\n",
        "  > \"Se você deseja descobrir os segredos do universo ou apenas seguir uma carreira no século 21, a programação básica de computadores é uma habilidade essencial para aprender\" (do inglês \"Whether you want to uncover the secrets of the universe, or you just want to pursue a career in the 21st century, basic computer programming is an essential skill to learn\" - Stephen Hawking).\n",
        "\n",
        "\n",
        "**Afinal, pensar de maneira lógica possibilita:**\n",
        "\n",
        "  -\tMelhor execução de processos da vida profissional.\n",
        "  -\tDesenvolver códigos mais eficientes.\n",
        "  -\tMelhor resolução de problemas do cotidiano; já que facilita a divisão de um problema complexo em pequenas partes e, portanto, auxilia a encontrar uma solução mais eficaz.\n",
        "  -\tAjuda na concentração; pois quanto mais claras e ordenadas as ações para atingir um objetivo, melhor será a concentração durante sua execução.Entender a tecnologia\n",
        "  -\tEntender como a tecnologia em geral funciona; já que todos os processos existentes em TI dependem de um código que os sustenta.\n",
        "\n",
        "## **Mas como aprender a programar?**\n",
        "\n",
        "Como todo e qualquer conhecimento, o aprendizado de uma linguagem de programação é como aprender algo novo, por isso, precisa basicamente de 5 etapas:\n",
        "\n",
        "  > ### **1 – Compreender**\n",
        "  Ao ser exposta a um conhecimento novo, uma pessoa precisa, primeiramente, compreender o que foi transmitido. Por isso é muito importante você perguntar e participar das aulas, questionar ao professore sanar o que eventualmente ficou duvidoso ou não tão claro. Afinal, “compreender linguagem é o processo de (re)construir sentidos a partir do discurso falado ou escrito” (ALMEIDA FILHO, 2002). Por isso, dificilmente você compreenderá algo sem realizar também as etapas a seguir:\n",
        "\n",
        "  \n",
        "  > ### **2 – Reter**\n",
        "  Para reter uma informação nova muitas vezes é necessário repeti-la por inúmeras vezes, ou pelo menos, praticar além do que lhe foi transmitido.\n",
        "\n",
        "\n",
        "  > ### **3 – Praticar**\n",
        "  Realizar e praticar os exercícios solicitados pelo professor na aula talvez seja o primeiro passo para praticar algo novo. Mas certamente ajudará se você for além do mínimo necessário, tentando praticar o que aprendeu inserindo o conhecimento na solução de problemas do seu cotidiano.\n",
        "\n",
        "\n",
        "  > ### **4 – Disseminar**\n",
        "  A transmissão do conhecimento novo que você adquiriu para outras pessoas ajuda na sua retenção. Por isso é tão importante realizar o trabalho em grupo, pois este foi pensado pelo professor para que os estudantes, mutuamente, possam contribuir uns com os outros nesta disseminação e, portanto, contribuírem para o processo de aprendizagem mútuo.\n",
        "\n",
        "\n",
        "  > ### **5 – Criar**\n",
        "  Tendo cumprido as etapas anteriores, o que certamente auxilia na consolidação do processo de aprendizado é o desafio de criar algo novo que não havia sido proposto ainda; isto certamente o desafiará, inclusive, a buscar e agregar novos conhecimentos de maneira autônoma e auto suficiente.\n",
        "\n",
        "</div>\n",
        "\n",
        "## **DICAS IMPORTANTES:**\n",
        "<div align=\"justify\">\n",
        "\n",
        "  - Não tenha medo de errar! Errar é normal e todos erram, principalmente no começo de uma nova profissão ou de um aprendizado; isso é também importante para sua evolução e crescimento.\n",
        "\n",
        "  - Nunca desista diante da primeira dificuldade; pergunte, peça auxílio! Como em qualquer jornada de aprendizado você enfrentará dificuldades; porém, não desista, o processo pode até ser longo e cansativo, mas saiba que superar uma dificuldade e alcançar um objetivo é algo que certamente contribuirá para o crescimento pessoal.\n",
        "\n",
        "  - Seja proativo(a); converse com colegas da área, participe de grupos e comunidades sobre o assunto; isto o ajudará a continuar evoluindo!\n",
        "\n",
        "  - Estude constantemente e revise os conhecimentos sempre que possível.\n",
        "\n",
        "  - Participe e desfrute o máximo desta aprendizagem de algo novo; você certamente vivenciará experiências únicas e provavelmente terá a chance de praticar e evoluir suas habilidades socioemocionais (muito valorizadas no mercado de trabalho atualmente). Uma habilidade muito valorizada hoje é a comunicação e a facilidade de interação entre indivíduos.\n",
        "\n",
        "</div>\n",
        "\n",
        "### ***Agora que falamos sobre Lógica de Programação, vamos abordar, brevemente, o desenvolvimento de softwares:***"
      ],
      "metadata": {
        "id": "sac-VDkbsbfx"
      }
    },
    {
      "cell_type": "markdown",
      "source": [
        "#**00.3 - Desenvolvimento de software**\n",
        "<div align=\"justify\">\n",
        "\n",
        "### O desenvolvimento de software refere-se a um conjunto de atividades de ciência da computação dedicadas ao processo de criação, design, implantação e suporte de software.\n",
        "\n",
        "### O **software** em si é o conjunto de instruções ou programas que informam ao computador o que fazer. Existem basicamente 4 tipos de softwares:\n",
        "\n",
        "1.   **Software de sistema**: fornecem funções essenciais, como sistemas operacionais, gerenciamento de disco, utilitários, gerenciamento de hardware e outras necessidades operacionais.\n",
        "\n",
        "2.   **Software de programação**: fornecem aos programadores ferramentas como editores de texto, compiladores, vinculadores, depuradores e outras ferramentas para criar código.\n",
        "\n",
        "3.  **Software aplicativo**: ajudam os usuários a executar tarefas. Pacotes de produtividade de escritório, software de gerenciamento de dados, reprodutores de mídia e programas de segurança são exemplos. Aplicativos também se referem a aplicativos da Web e móveis, como os usados ​​para fazer compras na Amazon.com, socializar com o Facebook ou postar fotos no Instagram.\n",
        "\n",
        "4. Um quarto tipo possível é o **software emabarcado**. O software de sistemas embarcados é usado para controlar máquinas e dispositivos que normalmente não considerados sistemas microcontrolados mas também podem ser considerados computadores — redes de telecomunicações, carros, robôs industriais e muito mais. Esses dispositivos e seus softwares podem ser conectados como parte da  [Internet das Coisas - IoT](https://www.sciencedirect.com/science/article/pii/S1570870516303316?casa_token=SRK6Y3ob_uoAAAAA:lzTBXNEOdLsQSrYB0OYil3dTDW7Jj62ug7eOaSPbG646xZKda1xxVDT-poarRdYPUfe6qlVLjQ).\n",
        "</div>"
      ],
      "metadata": {
        "id": "vJHCZ9jai2aX"
      }
    },
    {
      "cell_type": "markdown",
      "source": [
        "<div align=\"justify\">\n",
        "\n",
        "### O desenvolvimento de software é conduzido principalmente por programadores, engenheiros de software e desenvolvedores de software, em geral. Essas funções interagem e se sobrepõem, e a dinâmica entre elas varia muito entre os departamentos de desenvolvimento e as comunidades.  \n",
        "\n",
        "  > #### Os programadores, ou codificadores , escrevem o código-fonte para programar computadores para tarefas específicas, como mesclar bancos de dados, processar pedidos on-line, rotear comunicações, realizar pesquisas ou exibir texto e gráficos. Os programadores normalmente interpretam instruções de desenvolvedores de software e engenheiros e usam linguagens de programação como C, C++, Java, Python, etc., para executá-las. Anualmente é publicado o ranking anual do [IEEE Spectrum](https://spectrum.ieee.org/top-programming-languages-2022), elencando as principais linguagens de programação. Nos últimos ranking a linguagem Python tem liderado o ranking.\n",
        "\n",
        "Além disso, é importante mencionar que\n",
        "  > #### Segundo a IBM, os engenheiros de software aplicam princípios de engenharia para construir software e sistemas para resolver problemas. Eles usam a linguagem de modelagem e outras ferramentas para criar soluções que muitas vezes podem ser aplicadas a problemas de maneira geral, em vez de simplesmente resolver uma instância ou cliente específico. As soluções de engenharia de software aderem ao método científico e devem funcionar no mundo real, como em pontes ou elevadores. Sua responsabilidade cresceu à medida que os produtos se tornaram cada vez mais inteligentes com a adição de microprocessadores, sensores e software. Não apenas mais produtos dependem de software para diferenciação de mercado, mas seu desenvolvimento de software deve ser coordenado com o trabalho de desenvolvimento mecânico e elétrico do produto.\n",
        "\n",
        "### Afinal,\n",
        "Os desenvolvedores de software têm um papel menos formal do que os engenheiros e podem estar intimamente envolvidos com áreas específicas do projeto –incluindo escrever código. Ao mesmo tempo, eles conduzem o ciclo de vida geral do desenvolvimento de software — incluindo o trabalho entre equipes funcionais para transformar requisitos em recursos, gerenciamento de equipes e processos de desenvolvimento e realização de testes e manutenção de software.\n",
        "\n",
        "  > O trabalho de desenvolvimento de software não se limita a codificadores ou equipes de desenvolvimento. Profissionais como cientistas, fabricantes de dispositivos e fabricantes de hardware também criam código de software, embora não sejam principalmente desenvolvedores de software. Também não está confinado às indústrias tradicionais de tecnologia da informação, como empresas de software ou semicondutores. Na verdade, de acordo com o [Brookings Institute](https://www.brookings.edu/articles/which-industries-develop-software-all-of-them/), essas empresas “representam menos da metade das empresas que realizam desenvolvimento de software”.\n",
        "\n",
        "Uma distinção importante é o desenvolvimento de software personalizado em oposição ao desenvolvimento de software comercial. O desenvolvimento de software personalizado é o processo de projetar, criar, implantar e manter software para um conjunto específico de usuários, funções ou organizações. Em contraste, o software comercial pronto para uso (COTS) é projetado para um amplo conjunto de requisitos, permitindo que seja empacotado, comercializado e distribuído.\n",
        "\n",
        "</div>"
      ],
      "metadata": {
        "id": "bi7Oi258n7eD"
      }
    },
    {
      "cell_type": "markdown",
      "source": [
        "#**00.2 - Compiladores x Interpretadores**\n",
        "<div align=\"justify\">\n",
        "\n",
        "Resumidamente, todo programa é um conjunto de instruções, assim, compiladores e interpretadores recebem código legível por seres humanos e convertem-no para que a máquina seja capaz de executar taiz instruções (ou seja, convertem-no para código de máquina), legível pelo computador.\n",
        "\n",
        "Em uma linguagem compilada, a máquina de destino traduz o programa diretamente. Já na linguagem interpretada, o código fonte não é traduzido diretamente pela máquina de destino. Em vez disso, um programa diferente, o interpretador, lê e executa o código.\n",
        "\n",
        "## **Linguagens compiladas**\n",
        "As linguagens compiladas são convertidas diretamente na máquina em um código de máquina que o processador pode executar. Como resultado, elas tendem a ser mais rápidas e mais eficientes em sua execução do que as linguagens interpretadas. Elas também dão ao desenvolvedor mais controle sobre alguns aspectos do hardware, como o gerenciamento da memória e o uso da CPU.\n",
        "\n",
        "As linguagens compiladas necessitam de uma etapa de \"build\" (montagem) – elas precisam, primeiramente, ser compiladas manualmente. Você precisa \"remontar\" o programa sempre que precisar fazer uma alteração. Em nosso exemplo do molho, toda a tradução já está escrita antes de chegar até você. Se o autor original decidir usar um tipo diferente de óleo de oliva, a receita inteira precisaria ser traduzida novamente e reenviada a você.\n",
        "\n",
        "### Exemplos de linguagens compiladas puras são o C, o C++, o Erlang, o Haskell, o Rust e o Go.\n",
        "\n",
        "## **Linguagens interpretadas**\n",
        "Os interpretadores passam por um programa linha por linha e executam cada comando. Aqui, se o autor decidir que quer usar um tipo diferente de óleo de oliva, só precisaria remover o antigo e adicionar o novo. Seu amigo tradutor poderia informar isso a você quando a mudança acontecesse.\n",
        "\n",
        "Linguagens interpretadas, antigamente, eram significativamente mais lentas do que as linguagens compiladas. Porém, com o desenvolvimento da compilação just-in-time, essa distância vem diminuindo.\n",
        "\n",
        "### Exemplos de linguagens interpretadas comuns são o PHP, o Ruby, o Python e o JavaScript.\n",
        "\n",
        "## **Um pequeno detalhe**\n",
        "A maioria das linguagens de programação pode ter implementações compiladas e interpretadas – a linguagem em si não é necessariamente compilada ou interpretada. Porém, para fins de simplicidade, elas são normalmente referidas deste modo.\n",
        "\n",
        "Python, por exemplo, pode ser executado como um programa compilado ou como uma linguagem interpretada em modo interativo. Por outro lado, a maioria das ferramentas de linha de comando, ou CLIs, e shells podem, em teoria, ser classificadas como linguagens interpretadas.\n",
        "\n",
        "## **Vantagens e desvantagens**\n",
        "### **Vantagens das linguagens compiladas:**\n",
        "Os programas compilados em código de máquina nativo tendem a ser mais rápidos que o código interpretado. Isso ocorre porque o processo de traduzir o código em tempo de execução aumenta o tempo do processo, podendo fazer com que o programa seja, em geral, mais lento.\n",
        "\n",
        "### **Desvantagens das linguagens compiladas**\n",
        "- Tempo adicional necessário para concluir toda a etapa de compilação antes dos testes\n",
        "- Dependência da plataforma do código binário gerado\n",
        "\n",
        "### **Vantagens das linguagens interpretadas**\n",
        "As linguagens interpretadas tendem a ser mais flexíveis, geralmente oferecendo recursos como digitação dinâmica e tamanho reduzido de programa. Além disso, como os interpretadores executam o código fonte do programa por conta própria, o código não depende da plataforma.\n",
        "\n",
        "### **Desvantagens das linguagens interpretadas**\n",
        "A desvantagem mais notável é a velocidade típica de execução em comparação com as linguagens compiladas.\n",
        "\n",
        "</div>"
      ],
      "metadata": {
        "id": "a6YpK4e4rVdK"
      }
    },
    {
      "cell_type": "markdown",
      "source": [
        "# **01 - Introdução à Linguagem de Programação**\n"
      ],
      "metadata": {
        "id": "MmUQa780se9z"
      }
    },
    {
      "cell_type": "markdown",
      "source": [
        "<div align=\"justify\">\n",
        "\n",
        "## Conforme definido, um software ou programa é um conjunto de instruções que informam ao computador o que fazer. Geralmente com o objetivo de realizar uma tarefa para facilitar a vida do usuário.\n",
        "## Um programa de computador contém um **algoritmo** (ou seja, um **conjunto das regras e procedimentos lógicos perfeitamente definidos que levam à solução de um problema em um número finito de etapas**) e que pode ser uma representação de um sistema real, logo, um modelo que representa um sistema e a forma como ocorrem as modificações no mesmo.\n",
        "\n",
        "</div>"
      ],
      "metadata": {
        "id": "4ECaa8Pos4Vc"
      }
    },
    {
      "cell_type": "markdown",
      "source": [
        "## **01.1 - Por que aprender Python?**\n",
        "- Linguagem mais utilizada hoje globalmente\n",
        "- Fácil de aprender\n",
        "- Interoperabilidade (comunica-se de forma transparente com outras linguagens: Java, .NET e bibliotecas C/C ++);\n",
        "- Permite integração e desenvolvimento web;\n",
        "- Tem muitos recursos e bibliotecas para visualização de dados;\n",
        "- Interpreta scripts (não requer compilação já que interpreta o código diretamente);"
      ],
      "metadata": {
        "id": "RrMik0Vn3GzK"
      }
    },
    {
      "cell_type": "markdown",
      "source": [
        "---\n",
        "### Agora que você já teve um primeiro contato com um programa de computador, vou apresentar a você **os 10 Passos iniciais importantes para programar com Linguagem Python:**"
      ],
      "metadata": {
        "id": "D3zrn9JN39Rg"
      }
    },
    {
      "cell_type": "markdown",
      "source": [
        "##**Passo 01: DEFINIR O INTERPRETADOR**\n",
        "\n",
        "<div align=\"justify\">\n",
        "\n",
        "  O 1º passo para qualquer programador iniciar a tarefa de criar um programa de computador é definir qual será o compilador ou **integretador** a ser utilizado; lembre-se que no caso da linguagem Python você fará uso, exclusivamente, de INTERPRETADORES de código, neste caso, estamos usando o interpretador:  \n",
        "</div>\n",
        "\n",
        "[GOOGLE COLABORATORY](https://colab.research.google.com/)\n",
        "\n",
        "\n",
        "### **Alguns interpretadores Python:**\n",
        "\n",
        "| ONLINE | INSTALADOS |\n",
        "| -------- | ------- |\n",
        "| [JupyterLite](https://jupyter.org/try-jupyter/notebooks/?path=Untitled1.ipynb) | [ANACONDA](https://www.anaconda.com/download) |\n",
        "| [OnlineGDB](https://www.onlinegdb.com/) |  [PyCharm](https://www.jetbrains.com/pt-br/pycharm/download/?section=windows) |\n",
        "| [Online Python](https://www.online-python.com/#google_vignette) | [Visual Studio Code](https://code.visualstudio.com/download) |\n",
        "\n"
      ],
      "metadata": {
        "id": "gvXg9D-G3hqp"
      }
    },
    {
      "cell_type": "markdown",
      "source": [
        "##**Passo 02: SAIBA CRIAR COMENTÁRIOS**\n",
        "<div align=\"justify\">\n",
        "Parece besteira, mas ao se iniciar com qualquer linguagem de programação, uma das premissas essenciais para qualquer programador é saber fazer comentários; isto permite duas importantes ações:\n",
        "</div>\n",
        "* Documentar suas observações nos códigos explicando para que futuramente possa retornar e enteder o que fez;\n",
        "* Não perder o antigo código quando for fazer alguma modificação importante, deixando o código anterior como comentário de programa."
      ],
      "metadata": {
        "id": "JZFTJofP5C9b"
      }
    },
    {
      "cell_type": "markdown",
      "source": [
        "##**Passo 03: SAIBA IMPORTAR AS BIBLIOTECAS NECESSÁRIAS**\n",
        "<div align=\"justify\">\n",
        "No nosso primeiro exemplo acima você viu que usamos o comando ***import*** para importar uma biblioteca gráfica denominada matplotlib.pyplot:\n",
        "  **import matplotlib.pyplot as plt**\n",
        "\n",
        "Neste exemplo, nós importamos ela na forma de um objeto denominado plt, ao definirmos o objeto com a palavra ***as***.\n",
        "\n",
        "Para facilitar seu entendimento,\n",
        "isto faz com que o acesso à biblioteca  matplotlib.pyplot seja simplificado, assim, ao invés de ter que escrever todo o nome  matplotlib.pyplot, você passará a referir-se a ela simplesmente por plt. Este artifício usado na linguagem de programação python é muito importante; já que agiliza a escrita de códigos e é utilizado pela maioria dos programadores.\n",
        "\n",
        "Mas saiba que **a importação também pode ser ainda mais específica**, ao se difinir, inclusive, qual o método do objeto você que usar, assim usa-se a palavra ***from*** para informar o nome da biblioteca e, em seguida, usa-se a palavra ***import*** para definir qual o método a ser usado, veja o exmeplo:\n",
        "*from* matplotlib.pyplot *import* grid\n",
        "\n",
        " isto permitirá a você faça uso do método sem que seja necessário o nome da biblioteca junto. Veja o mesmo exemplo a seguir, onde eliminamos o uso de plt.grid(True) e passamos a usar apenas grid(True):\n",
        "</div>"
      ],
      "metadata": {
        "id": "i2ExeKxd6yGT"
      }
    },
    {
      "cell_type": "markdown",
      "source": [
        "##**Passo 04: SEMPRE INDENTAR CORRETAMENTE O PROGRAMA**\n",
        "<div align=\"justify\">\n",
        "Na programação de computadores , o ato de indentar o programa (criar recuo) é uma convenção que governa o recuo de blocos de código para transmitir a estrutura e hierarquia do programa. A indentação não é uma obrigação da maioria das linguagens de programação, onde é usada como notação secundária. Mas na linguagem Python, ela tem uma função muito importante, podendo, inclusive, ser causa de erros de execução de muitos programas. Ao criar um looping para que a variável i crie valores contando de 0 até <11, ou seja, de 0 até 10, é preciso indentar os comandos que você colocará dentro deste looping:\n",
        "```\n",
        "    for i in range(11):\n",
        "      x.append(i)       #observe que esta linha ficou com recuo de 1 TAB\n",
        "      y.append(a*i + b) #observe que esta linha ficou com recuo de 1 TAB\n",
        "\n",
        "```\n",
        "</div>"
      ],
      "metadata": {
        "id": "xJ9MaEEp-P2D"
      }
    },
    {
      "cell_type": "markdown",
      "source": [
        "##**Passo 05: SAIBA O QUE É PROGRAMAÇÃO ORIENTADA A OBJETOS E SEUS PILARES**\n",
        "\n",
        "# O primeiro passo para entender Python é entender que **PYTHON é** fundamentalmente ***Programação Orientada a Objetos***\n",
        "[REF01](https://www.dio.me/articles/5-minutos-aprenda-orientacao-a-objetos)\n",
        "[REF02](https://panda.ime.usp.br/aulasPython/static/aulasPython/aula17.html)\n",
        "## *Por isso precisamos entender os segUintes conceitos:*\n",
        "# Classes\n",
        "\n",
        "* Objetos\n",
        "* Propriedades/Atributos\n",
        "* Métodos\n",
        "* Herança\n",
        "* Classe abstrata\n",
        "* Polimorfismo\n",
        "\n",
        "<div align=\"justify\">\n",
        "A capacidade de representar e abstrair conceitos é fundamental para o nosso pensamento, tornando possível a generalização de coisas e a construção de conceitos cada vez mais complexos. Por isso, na evolução das linguagens de programação, a necessidade de se representar e manipular informações complexas resultou no conceito de classes e objetos, onde classes servem como abstrações (representação) e objetos seriam instâncias de classes que mantém e permitem a manipulação da informação.\n",
        "\n",
        "Em Python, toda informação que usamos é representada na forma de um objeto. Assim, o número 6 é um objeto da classe int, o número 3.14 é um objeto da classe float, e assim por diante.\n",
        "\n",
        "Em computação, criar um objeto significa criar uma instância de uma classe. Linguagens orientadas a objetos permitem a definição de novas classes.\n",
        "\n",
        "Uma classe é uma abstração de alguma “coisa”, que possui um estado e comportamento. Um estado é definido por um conjunto de variáveis chamadas de atributos. Esses estados podem ser alterados por meio de “ações” sobre o objeto, que definem seu comportamento. Essas ações são funções chamadas de “métodos”.\n",
        "\n",
        "Por exemplo, para representar um carro podemos definir:\n",
        "* uma classe Carro:\n",
        "* com os atributos: ano, modelo, cor, e vel\n",
        "* e os métodos:\n",
        "    - acelera(vel): acelera até vel\n",
        "    - pare(): vel = 0\n",
        "\n",
        "# **Classes**\n",
        "*São estruturas genéricas* para definir coisas diversas. Imagine uma classe Pessoa, por exemplo. Você sabe diferenciar uma pessoa de um carro, por exemplo. Mas eu não disse uma pessoa em específico. Pessoa é genérico, pode ser qualquer uma.\n",
        "\n",
        "# **Objetos**\n",
        "\n",
        "São instâncias de uma classe. Eu e você somos Pessoas, correto? Mas somos Pessoas diferentes. Eu sou eu, você é você. Cada objeto é específico. Isso que difere a classe do objeto.\n",
        "\n",
        "# **Propriedades**\n",
        "*São valores que um objeto possui*. Por exemplo, todas as pessoas possuem uma altura. Logo, altura é uma propriedade definida dentro da classe Pessoa. Entretanto, sua altura é diferente da minha. Logo, a definição dos atributos é feita na classe, mas a valoração deles é feita no objeto. No código, uma propriedade é basicamente uma variável definida dentro de uma classe.\n",
        "\n",
        "# **Métodos**\n",
        "\n",
        "*São similares às propriedades, com a diferença que ao invés de substantivos, são verbos. Por exemplo, falar é um método da classe Pessoa, pois pessoas, em grande maioria, falam. Apesar disso, cada pessoa (ou seja, cada objeto) pode falar de uma forma diferente (por exemplo eu posso falar em um idioma e você em outro).\n",
        "\n",
        "Outra analogia que a bibliografia relata é que um método se comporta como uma função, mas ele é chamado de uma instância específica. Por exemplo, com uma tartaruga chamada tesss, tess.right(90) pede ao objeto tess para executar o seu método right e virar 90 graus. Os métodos são acessados usando a notação de ponto.\n",
        "\n",
        "</div>"
      ],
      "metadata": {
        "id": "3gxiNMQdADos"
      }
    },
    {
      "cell_type": "code",
      "source": [
        "class Pessoa:\n",
        "\n",
        "    # A função __init__ roda toda vez que criamos uma nova pessoa\n",
        "\n",
        "    def __init__(self, novo_nome, nova_altura):\n",
        "\n",
        "        # self indica o objeto. Cada objeto vai ter um nome e uma altura\n",
        "\n",
        "        self.nome = novo_nome\n",
        "\n",
        "        self.altura = nova_altura\n",
        "\n",
        "    # ? Aqui temos um método\n",
        "\n",
        "    def crescer(self):\n",
        "\n",
        "        crescimento = self.altura * 0.1\n",
        "\n",
        "        self.altura += crescimento\n",
        "\n",
        "        print(f\"{self.nome} cresceu {crescimento}cm.\")"
      ],
      "metadata": {
        "id": "zfsW4CYrQiJf"
      },
      "execution_count": null,
      "outputs": []
    },
    {
      "cell_type": "code",
      "source": [
        "eu = Pessoa(\"André\", 150)  # Objeto eu da classe Pessoa\n",
        "\n",
        "você = Pessoa(\"Fulano\", 180)  # ? Objeto você da classe Pessoa\n",
        "\n",
        "print(eu.nome)  # ? Meu nome\n",
        "\n",
        "print(você.nome)  # ? É diferente do seu\n",
        "\n",
        "# ? Mas nós dois temos nome, pois nós dois somos pessoas\n",
        "\n",
        "eu.crescer()  # ? Eu posso crescer, pois sou uma pessoa\n",
        "\n",
        "você.crescer()  # ? VocÊ também pode crescer, mas vai ser diferente de mim"
      ],
      "metadata": {
        "id": "zVQYZxhgQkb5"
      },
      "execution_count": null,
      "outputs": []
    },
    {
      "cell_type": "code",
      "source": [
        "def soma():\n",
        "    x = float(input(\"Primeiro numero: \"))\n",
        "    y = float(input(\"Segundo numero: \"))\n",
        "    soma = x + y\n",
        "    print(\"Soma: \",soma)\n",
        "\n",
        "continuar=1\n",
        "\n",
        "while continuar:\n",
        "    if(continuar):\n",
        "        soma()\n",
        "    continuar=int(input(\"Digite 0 se desejar encerrar ou qualquer outro numero para continuar: \"))\n",
        "\n",
        "def soma(x, y):\n",
        "    soma = x + y\n",
        "    print(\"Soma: \",soma)\n",
        "\n",
        "soma(8,3)"
      ],
      "metadata": {
        "id": "41zH5OTlQoMi"
      },
      "execution_count": null,
      "outputs": []
    },
    {
      "cell_type": "code",
      "source": [
        "n1 = float(input(\"Digite o valor 1: \"))\n",
        "n2 = float(input(\"Digite o valor 2: \"))\n",
        "n3 = 20\n",
        "n4 = n1 + n2 + n3\n",
        "print (\"Soma: \" + str(n4))"
      ],
      "metadata": {
        "id": "6VRW0nVMQo2n"
      },
      "execution_count": null,
      "outputs": []
    },
    {
      "cell_type": "code",
      "source": [
        "#Se vc usar int obrigatório usar inteiro; logo, dará erro ao usar numero com ponto flutuante\n",
        "n1 = int(input(\"Digite o valor 1: \"))\n",
        "n2 = int(input(\"Digite o valor 2: \"))\n",
        "n3 = 20\n",
        "n4 = n1 + n2 + n3\n",
        "print (\"Soma: \" + str(n4))\n",
        "n3 = 20\n",
        "n4 = n3 * 10\n",
        "print(\"Resultado n3*n4 = \" + str(n4))\n",
        "print (n4)\n",
        "n3 = \"Mack\"\n",
        "print (n3)"
      ],
      "metadata": {
        "id": "5tdXYgy6QrhL"
      },
      "execution_count": null,
      "outputs": []
    },
    {
      "cell_type": "code",
      "source": [
        "x = 2                               #tipo numérico\n",
        "p = 3.1415                          #tipo ponto flutuante\n",
        "verdadeiro = True                   #tipo booleano\n",
        "texto = 'isto é uma string'         #tipo string\n",
        "texto1 = \"isto também é uma string\" #tipo string\n",
        "c = 3 + 2j                          #tipo número complexo\n",
        "print('Número complexo: ' + str(c))\n",
        "print(x)\n",
        "print(p)\n",
        "print(verdadeiro)\n",
        "print(texto)\n",
        "print(texto1)"
      ],
      "metadata": {
        "id": "kvCf773GQubW"
      },
      "execution_count": null,
      "outputs": []
    },
    {
      "cell_type": "code",
      "source": [
        "peso = 101\n",
        "altura = 1.80\n",
        "ponto = '.'\n",
        "#Para cada um dos comandos abaixo, indique o resultado da expressão e o tipo de cada um deles.\n",
        "print(peso/2)\n",
        "print(peso/2.0)\n",
        "print(altura/3)\n",
        "print(1 + 2 * 5)\n",
        "print(ponto * 5)"
      ],
      "metadata": {
        "id": "TGRRR35IQxW_"
      },
      "execution_count": null,
      "outputs": []
    },
    {
      "cell_type": "code",
      "source": [
        "#O que será exibido na tela?\n",
        "x = 'aa'\n",
        "y = x * 10\n",
        "print(y)\n",
        "\n",
        "v1 = 10.5\n",
        "v2 = 10\n",
        "v3 = \"true\"\n",
        "v4 = True\n",
        "v5 = int(v1)\n",
        "v6 = float(v2)\n",
        "v7 = type(v3)\n",
        "v8 = type(v4)\n",
        "\n",
        "print(v1)\n",
        "print(v2)\n",
        "print(v3)\n",
        "print(v4)\n",
        "print(v5)\n",
        "print(v6)\n",
        "print(v7)\n",
        "print(v8)"
      ],
      "metadata": {
        "id": "y2ydEPICQz7J"
      },
      "execution_count": null,
      "outputs": []
    },
    {
      "cell_type": "markdown",
      "source": [
        "#**OPERADORES ARITMÉTICOS**\n",
        "```\n",
        "print(2+3)    # SOMA\n",
        "print(2-3)    # SUBTRAÇÃO\n",
        "print(2*3)    # MULTIPLICAÇÃO\n",
        "print(2/3)    # DIVISÃO\n",
        "print(6.6//3) # DIVISÃO INTEIRA\n",
        "print(2%3)    # RESTO DA DIVISÃO\n",
        "print(2**3)   # EXPONENCIAÇÃO\n",
        "```"
      ],
      "metadata": {
        "id": "XaI_JtnOQ9VR"
      }
    },
    {
      "cell_type": "markdown",
      "source": [
        "## **Passo 06: ENTENDER O CONCEITO DE VARIÁVEL**\n",
        "\n",
        "<div align=\"justify\">\n",
        "\n",
        "### As variáveis são elementos básicos de qualquer linguagem de programação, pois armazenam os dados que precisamos no nosso algoritmo. Cada dado pode ser de um tipo diferente e, por isso precisamos mostrar ao nosso algoritmo logo no início o que esperar armazenar.\n",
        "</div>"
      ],
      "metadata": {
        "id": "fSaAwx3mAU46"
      }
    },
    {
      "cell_type": "markdown",
      "source": [
        "##**Passo 07: ENTENDA MARKDOWN**\n",
        "https://markdown.net.br/sintaxe-estendida/\n",
        "\n",
        "### Título em **negrito**.\n",
        "## Sub-título em *itálico*.\n",
        "Texto ~tachado~.\n",
        "\n",
        "#Notações matemáticas Markdown:\n",
        "\n",
        "## Exemplo 1:\n",
        "$x ∈ [-5, 5]$\n",
        "\n",
        "## Exemplo 2:\n",
        "$\\sqrt{3x-1}+(1+x)^2$\n",
        "\n",
        "## Exemplo 3:\n",
        "$e^x=\\sum_{i=0}^\\infty \\frac{1}{i!}x^i$\n",
        "\n",
        "## Exmeplo 4:\n",
        " - $3x_1 + 6x_2 + x_3 =< 28$\n",
        " - $7x_1 + 3x_2 + 2x_3 =< 37$\n",
        " - $4x_1 + 5x_2 + 2x_3 =< 19$\n",
        " - $x_1,x_2,x_3 >=0 $\n",
        "\n",
        " ## Exemplo 5: Vetores\n",
        " $u_i(t) = x_i(t) + \\beta(\\hat{x}(t) − x_i(t)) + \\beta \\sum_{k = 1}^{n\n",
        " _v}(x_{i1,k}(t) − x_{i2,k}(t))$\n",
        "\n",
        " $f(x_1, x_2) = 20 + e - 20exp(-0.2 \\sqrt {\\frac {1}{n} (x_1^2 + x_2^2)}) - exp\n",
        "(\\frac {1}{n}(cos(2\\pi x_1) + cos(2\\pi x_2))$\n",
        "\n",
        "\n",
        "## Exemplo 6: Matriz\n",
        ">$A_{m,n} =\n",
        "\\begin{pmatrix}\n",
        " a_{1,1} & a_{1,2} & \\cdots & a_{1,n} \\\\\n",
        " a_{2,1} & a_{2,2} & \\cdots & a_{2,n} \\\\\n",
        " \\vdots & \\vdots & \\ddots & \\vdots \\\\\n",
        " a_{m,1} & a_{m,2} & \\cdots & a_{m,n}\n",
        "\\end{pmatrix}$"
      ],
      "metadata": {
        "id": "Y5zi2GVCA53l"
      }
    },
    {
      "cell_type": "markdown",
      "source": [
        "#**Passo 08:**\n",
        "  > # **SEMPRE SALVE O QUE VOCÊ FEZ!**\n"
      ],
      "metadata": {
        "id": "ibaIzSihBB5M"
      }
    },
    {
      "cell_type": "markdown",
      "source": [
        "##**Passo 09: SALVANDO CÓPIA NO GoogleDrive e no GIT HUB**\n",
        "**Antes, vamos entender o que é Git?**\n",
        "<div align=\"justify\">\n",
        "Git é um sistema de controle de versão popular. Foi criado por Linus Torvalds em 2005 e é mantido por Junio ​​Hamano desde então.\n",
        "\n",
        "**Funcionalidades:**\n",
        "* Alterações no código de rastreamento\n",
        "* Rastreando quem fez alterações\n",
        "* Codificação de colaboração\n",
        "\n",
        "[GitHub](https://github.com/signup?ref_cta=Sign+up&ref_loc=header+logged+out&ref_page=%2F&source=header-home) é uma plataforma que faz uso de git para hospedagem de código-fonte e arquivos com controle de versão usando o Git, hoje ela é mantida pela Microsoft desde 2018. Esta plataforma permite que programadores, utilitários ou qualquer usuário cadastrado na plataforma contribuam em projetos privados e/ou Open Source de qualquer lugar do mundo.\n",
        "\n",
        "**O github é ótimo para:**\n",
        "* Gerenciar projetos com repositórios\n",
        "* Clonar um projeto para trabalhar em uma cópia local\n",
        "* Controlar e rastrear alterações com Staging e Committed\n",
        "* Branch and Merge para permitir o trabalho em diferentes partes e versões de um projeto\n",
        "* Puxar a versão mais recente do projeto para uma cópia local\n",
        "* Enviar atualizações locais para o projeto principal\n",
        "\n",
        "**Por que Git?**\n",
        "A maioria dos desenvolvedores (>70%) usam o Git e, portanto, há um vasto material disponível e com código aberto!\n",
        "Os desenvolvedores podem trabalhar juntos de qualquer lugar do mundo.\n",
        "Os desenvolvedores podem ver o histórico completo do projeto e as anotações das versões.\n",
        "Os desenvolvedores podem reverter para versões anteriores de um projeto.\n",
        "\n",
        "**DICAS para trabalhar com GitHub:**\n",
        "Inicialize o Git em uma pasta, tornando-a um Repositório\n",
        "O Git agora cria uma pasta oculta para acompanhar as alterações nessa pasta\n",
        "Quando um arquivo é alterado, adicionado ou excluído, ele é considerado modificado\n",
        "Você seleciona os arquivos modificados que deseja Stage\n",
        "Os arquivos Staged são confirmados , o que solicita que o Git armazene um instantâneo permanente dos arquivos\n",
        "O Git permite que você veja o histórico completo de cada commit.\n",
        "Você pode reverter para qualquer confirmação anterior.\n",
        "O Git não armazena uma cópia separada de cada arquivo em cada commit, mas mantém o controle das mudanças feitas em cada commit!\n",
        "\n",
        "</div>"
      ],
      "metadata": {
        "id": "ig4sag--BHh1"
      }
    },
    {
      "cell_type": "markdown",
      "source": [
        "##**Passo 10:** Entender que Python faz muito uso de Funções; um bloco de código que executa alguma operação. Opcionalmente, uma função pode definir parâmetros de entrada que permitem que os usuários passem argumentos para a função. Uma função também pode retornar um valor como saída.\n",
        "\n",
        "# **Dica final:** *Frequente comunidades como Stack Overflow e Redes sociais sobre Python para estar antenado nas dúvidas e novidades*\n",
        "....."
      ],
      "metadata": {
        "id": "9mwC11_gBOrk"
      }
    },
    {
      "cell_type": "markdown",
      "source": [
        "---\n",
        "#**Exemplo 01:** Pensemos em um algoritmo e na narrativa de código para uma tarefa muito simples:\n",
        "  > **Solicitar** a **idade** do usuário **e verificar se** o mesmo **é obrigado a votar (idade >=18 e idade <70)** e **imprimir** na tela **\"Você é obrigado a votar.\"**\n",
        "\n",
        "### **1º Passo:** Criar a Narrativa ou pseudo-código\n",
        "   \n",
        "  > **Ler** *idade*\n",
        "  >\n",
        "  > **se** *idade>=18* **e** *idade<70* **então:**\n",
        "  >\n",
        "  > **imprimir** \"Você é obrigado a votar!\"\n",
        "  \n",
        "### **2º Passo:** criar o Algoritmo do programa\n",
        "início:\n",
        "> **int**eiro: idade\n",
        ">\n",
        "> **imprimir**(\"Digite sua idade: \") e **ler**(**idade**)\n",
        ">\n",
        "> **se** (*idade>=18* **e** *idade<70*) **então:**\n",
        ">\n",
        "> **imprimir**(\"Você é obrigado a votar!\")\n",
        "\n",
        "### **3º Passo:** A partir do algoritmo, **codificar na Linguagem** de Programação escolhida (Neste caso, **Python**):"
      ],
      "metadata": {
        "id": "CGFHHkTcadgK"
      }
    },
    {
      "cell_type": "code",
      "source": [
        "# inteiro: idade\n",
        "# imprimir(\"Digite sua idade: \") e ler(idade)\n",
        "idade = int(input(\"Digite sua idade\"))\n",
        "\n",
        "# se(idade>=18 e idade<70) então:\n",
        "#    imprimir(\"Você é obrigado a votar!\")\n",
        "if(idade>=18 and idade<70):\n",
        "  print(\"Você é obrigado a votar!\")"
      ],
      "metadata": {
        "id": "PmMmgT0ro_wT"
      },
      "execution_count": null,
      "outputs": []
    },
    {
      "cell_type": "markdown",
      "source": [
        "Neste Exemplo 01 você aprendeu a usar:\n",
        "\n",
        "## - Função **input()**\n",
        "**Definição:** A função **input()** permite o usuário fornecer valores à uma variável do programa\n",
        "\n",
        "**Sintaxe:** input**(prompt)**\n",
        "\n",
        "| **PARÂMETRO** | DESCRIÇÃO |\n",
        "| -------- | ------- |\n",
        "| **prompt** | mensagem tipo String a ser impressa na tela |\n",
        "\n",
        "## - Função **int()**\n",
        "**Definição:** A função **int()** converte um número específico em um número inteiro\n",
        "\n",
        "**Sintaxe:** int**(Valor, Base)**\n",
        "\n",
        "| **PARÂMETRO** | DESCRIÇÃO |\n",
        "| -------- | ------- |\n",
        "| **Valor** | Número ou String que será ocnvertido em inteiro |\n",
        "| **Base** | Um número representando a base numérica. Base padrão: 10  |\n",
        "\n",
        "## - Função **print()**\n",
        "**Definição:** A função **print()** imprime a mensagem especificada na tela ou em outro dispositivo de saída padrão.\n",
        "  > A mensagem pode ser uma string, ou qualquer outro objeto; este será convertido em uma string antes de ser gravado na tela.\n",
        "\n",
        "**Sintaxe:** print**(objeto, sep = sepr, end = end, file=arquivo, flush=flush)**\n",
        "\n",
        "| **PARÂMETRO** | DESCRIÇÃO |\n",
        "| -------- | ------- |\n",
        "| **Objeto** | Objeto que será convertido em String antes de ser impresso |\n",
        "| **sep** | Separador (opcional) que especifica a forma de separar os objetos |\n",
        "| **end** | especifica o que será impresso no final. (Padrão: \\n) |\n",
        "| **file** | arquivo (opcional). Objeto com método write. (Padrão: sys.stdout) |\n",
        "| **flush** | Booleano que especifica se saída liberada (True) ou armazenada em Buffer (False). (Padrão: False) |\n",
        "\n",
        "\n",
        "## - Estrutura Condicional **if**\n",
        "**Definição:** A estrutura condicional **if** permite executar um código ou bloco de código se uma determinada condição for verdadeira\n",
        "\n",
        "**Sintaxe:**\n",
        "\n",
        "  >     if condição:\n",
        "  >        código a ser executado se a condição for verdadeira\n",
        "\n",
        "| **PARÂMETRO** | DESCRIÇÃO |\n",
        "| -------- | ------- |\n",
        "| **prompt** | mensagem tipo String a ser impressa na tela |"
      ],
      "metadata": {
        "id": "SNcjuWIAqbBz"
      }
    },
    {
      "cell_type": "markdown",
      "source": [
        "---\n",
        "#**Exemplo básico 02:**\n",
        "Pensemos no simples equação a seguir:\n",
        "y = ax + b, onde a = 2 e b = 1\n",
        "Logo,\n",
        "y = 2x + 1\n",
        "Assim:\n",
        "Se x = 0, y = 1\n",
        "Se x = 1, y = 3\n",
        "Se x = 2, y = 5\n",
        "\n",
        "<div align=\"justify\">\n",
        "Ou seja, acabamos de fazer referência à equação de uma reta e seu coeficiente angular (a) e conficiente linear (b). No colégio você aprendeu a realizar cálculos individuais e a desenhar a provável reta para determinada equação. Mas agora, você poderá evoluir no aprendizado e passar a criar um programa de computador que, a partir de um intervalo x de valores, possa calcular e desenhar todos os possíveis pontos que irão compor estar reta da respectiva equação.\n",
        "</div>\n",
        "\n",
        "### **A seguir 3 soluções para o Exemplo 02:**"
      ],
      "metadata": {
        "id": "0ab_NO0gvoJs"
      }
    },
    {
      "cell_type": "code",
      "source": [
        "#Exemplo 02 (Solução 1 de 3)\n",
        "import matplotlib.pyplot as plt\n",
        "a = 2\n",
        "b = 1\n",
        "x = []\n",
        "y = []\n",
        "for i in range(11):\n",
        " x.append(i)\n",
        " y.append(a*i + b)\n",
        "print(x)\n",
        "print(y)\n",
        "plt.plot(x, y)\n",
        "plt.xlabel('x')\n",
        "plt.ylabel('y')\n",
        "plt.title('Gráfico de uma Reta')\n",
        "plt.grid(True)\n",
        "plt.show()\n",
        "\n",
        "#Neste exemplo, defini-se incialmente os dois parâmetros: a (coeficiente angular) e b (coeficiente linear) da equação da reta.\n",
        "#Em seguida, cria-se uma lista de valores x no intervalo de -0 a 10 e calcula-se os valores correspondentes de y usando a equação y = ax + b.\n",
        "#Em seguida, o gráfico é plotado usando plt.plot(x, y), e são adicionados rótulos aos eixos, um título e uma grade para facilitar a visualização.\n",
        "#No exemplo de uso, definimos a = 2 e b = 1 para criar uma reta com coeficiente angular 2 e coeficiente linear 1.\n",
        "#Você pode alterar esses valores para plotar diferentes retas.\n",
        "#Certifique-se de ter a biblioteca matplotlib instalada em seu ambiente Python para executar esse programa. Você também pode instalá-la usando o comando !pip install matplotlib.\n"
      ],
      "metadata": {
        "id": "OBlXLLv10q0M"
      },
      "execution_count": null,
      "outputs": []
    },
    {
      "cell_type": "markdown",
      "source": [
        "## O programa anterior também poderia ser escrito assim:"
      ],
      "metadata": {
        "id": "sviry2nS868I"
      }
    },
    {
      "cell_type": "code",
      "source": [
        "#Exemplo 02 (Solução 2 de 3):\n",
        "\n",
        "import matplotlib.pyplot as plt\n",
        "\n",
        "def plot_reta(a, b):\n",
        "    x = range(11)  # Intervalo de x: 0 a 10\n",
        "    y = [a * i + b for i in x]  # Equação da reta: y = ax + b\n",
        "\n",
        "    plt.plot(x, y)\n",
        "    plt.xlabel('x')\n",
        "    plt.ylabel('y')\n",
        "    plt.title('Gráfico de uma Reta')\n",
        "    plt.grid(True)\n",
        "    plt.show()\n",
        "\n",
        "# Exemplo de uso:\n",
        "a = 2  # Coeficiente angular\n",
        "b = 1  # Coeficiente linear\n",
        "plot_reta(a, b)"
      ],
      "metadata": {
        "id": "XuYbst8Cznl9"
      },
      "execution_count": null,
      "outputs": []
    },
    {
      "cell_type": "markdown",
      "source": [
        "## Ou também poderia ser escrito assim:"
      ],
      "metadata": {
        "id": "aRU88tuk-y9a"
      }
    },
    {
      "cell_type": "code",
      "source": [
        "#Exemplo 02 (Solução 3 de 3)\n",
        "\n",
        "import matplotlib.pyplot as plt\n",
        "from matplotlib.pyplot import grid\n",
        "a = 2\n",
        "b = 1\n",
        "x = []\n",
        "y = []\n",
        "for i in range(11):\n",
        " x.append(i)\n",
        " y.append(a*i + b)\n",
        "print(x)\n",
        "print(y)\n",
        "plt.plot(x, y)\n",
        "plt.xlabel('x')\n",
        "plt.ylabel('y')\n",
        "plt.title('Gráfico de uma Reta')\n",
        "grid(True) #Devido a importação específica podemos passar a usar simplesmente o método grid da biblioteca matplotlib.pyplot\n",
        "plt.show()"
      ],
      "metadata": {
        "id": "0XlJJ2tP8SpE"
      },
      "execution_count": null,
      "outputs": []
    },
    {
      "cell_type": "markdown",
      "source": [
        "# Links úteis para consulta:\n",
        "- [01](https://www.ibm.com/topics/software-development) [02](https://www.freecodecamp.org/portuguese/news/linguagens-de-programacao-interpretadas-x-compiladas-qual-e-a-diferenca/) [03](https://www.w3schools.com/git/git_intro.asp?remote=github) [04](https://www.devmedia.com.br/os-4-pilares-da-programacao-orientada-a-objetos/9264) [05](https://www.devmedia.com.br/abstracao-encapsulamento-e-heranca-pilares-da-poo-em-java/26366) [06](https://data-flair.training/blogs/python-method/)\n"
      ],
      "metadata": {
        "id": "eOa1aAw8iq5S"
      }
    }
  ]
}