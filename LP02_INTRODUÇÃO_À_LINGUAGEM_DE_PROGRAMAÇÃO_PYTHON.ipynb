{
  "nbformat": 4,
  "nbformat_minor": 0,
  "metadata": {
    "colab": {
      "private_outputs": true,
      "provenance": [],
      "include_colab_link": true
    },
    "kernelspec": {
      "name": "python3",
      "display_name": "Python 3"
    },
    "language_info": {
      "name": "python"
    }
  },
  "cells": [
    {
      "cell_type": "markdown",
      "metadata": {
        "id": "view-in-github",
        "colab_type": "text"
      },
      "source": [
        "<a href=\"https://colab.research.google.com/github/igarashimassaki/LinguagemPython/blob/main/LP02_INTRODU%C3%87%C3%83O_%C3%80_LINGUAGEM_DE_PROGRAMA%C3%87%C3%83O_PYTHON.ipynb\" target=\"_parent\"><img src=\"https://colab.research.google.com/assets/colab-badge.svg\" alt=\"Open In Colab\"/></a>"
      ]
    },
    {
      "cell_type": "markdown",
      "source": [
        "#**Neste capítulo abordaremos:**\n",
        "> - **Introdução à Linguagem de Programação Python**\n",
        "> - **Conceitos Introdutórios de Python:**\n",
        "  - Diferença entre Compilador e Interpretador\n",
        "  - Primeiros passos com o Interpretador Colaboratory da Google\n",
        "  - Conceito de Variável\n",
        "  - Entendendo o que é sistema: ENTRADA, PROCESSAMENTO E SAÍDA\n",
        "  - Variável tipo inteira e tipo real\n",
        "  - Narrativa, Fluxograma, Algoritmo ou pseudocódigo e código"
      ],
      "metadata": {
        "id": "PYuyDd3SGe6j"
      }
    },
    {
      "cell_type": "markdown",
      "source": [
        "# **01 - Introdução à Linguagem de Programação**\n"
      ],
      "metadata": {
        "id": "MmUQa780se9z"
      }
    },
    {
      "cell_type": "markdown",
      "source": [
        "<div align=\"justify\">\n",
        "> Conforme definido, um software ou programa é um conjunto de instruções que informam ao computador o que fazer. Geralmente com o objetivo de realizar uma tarefa para facilitar a vida do usuário.\n",
        "Um programa de computador contém um **algoritmo** (ou seja, um **conjunto das regras e procedimentos lógicos perfeitamente definidos que levam à solução de um problema em um número finito de etapas**) e que pode ser uma representação de um sistema real, logo, um modelo que representa um sistema e a forma como ocorrem as modificações no mesmo.\n",
        "</div>"
      ],
      "metadata": {
        "id": "4ECaa8Pos4Vc"
      }
    },
    {
      "cell_type": "markdown",
      "source": [
        "#**Exemplo de Programa Python:**\n",
        "<div align=\"justify\">\n",
        "Pensemos no simples equação a seguir:\n",
        "y = ax + b, onde a = 2 e b = 1\n",
        "Logo,\n",
        "y = 2x + 1\n",
        "Assim:\n",
        "Se x = 0, y = 1\n",
        "Se x = 1, y = 3\n",
        "Se x = 2, y = 5\n",
        "\n",
        "Ou seja, acabamos de fazer referência à equação de uma reta e seu coeficiente angular (a) e conficiente linear (b). No colégio você aprendeu a realizar cálculos individuais e a desenhar a provável reta para determinada equação. Mas agora, você poderá evoluir no aprendizado e passar a criar um programa de computador que, a partir de um intervalo x de valores, possa calcular e desenhar todos os possíveis pontos que irão compor estar reta da respectiva equação.\n",
        "</div>"
      ],
      "metadata": {
        "id": "0ab_NO0gvoJs"
      }
    },
    {
      "cell_type": "markdown",
      "source": [
        "# #**Exemplo 01**\n",
        "Crie um código de programa em linguagem Python para Solicitar dois valores a e b e em seguida calcular e exibir o resultado da soma."
      ],
      "metadata": {
        "id": "Twg30FAzH5GO"
      }
    },
    {
      "cell_type": "code",
      "source": [
        "#ENTRADAS DO PROGRAMA\n",
        "a = input(\"Digite a:\")\n",
        "b = input(\"Digite b:\")\n",
        "#PROCESSAMENTO\n",
        "soma = int(a) + int(b)\n",
        "#SAÍDA NA TELA\n",
        "print(soma)"
      ],
      "metadata": {
        "id": "xCouyCK4H4V4"
      },
      "execution_count": null,
      "outputs": []
    },
    {
      "cell_type": "markdown",
      "source": [
        "#**Exemplo 02**\n",
        "Crie um código de programa em linguagem Python para Solicitar dois valores a e b e em seguida calcular e exibir o resultado de:\n",
        "*   Soma\n",
        "*   Subtração\n",
        "*   Multiplicação\n",
        "*   Divisão\n",
        "*   Resto\n",
        "*   Potência\n",
        "\n",
        "\n",
        "\n"
      ],
      "metadata": {
        "id": "ZS43fM9RM4Fg"
      }
    },
    {
      "cell_type": "code",
      "source": [
        "#ENTRADAS DO PROGRAMA\n",
        "a = input(\"Digite a:\")\n",
        "b = input(\"Digite b:\")\n",
        "#PROCESSAMENTO\n",
        "soma = int(a) + int(b)\n",
        "subtracao = int(a) - int(b)\n",
        "multiplicacao = int(a) * int(b)\n",
        "divisao = int(a)/int(b)\n",
        "resto = int(a)%int(b)\n",
        "potencia = int(a)**int(b)\n",
        "#SAÍDA NA TELA\n",
        "print(\"Soma = \" + str(soma))\n",
        "print(\"Subtração = \" + str(subtracao))\n",
        "print(\"Multiplicação = \" + str(multiplicacao))\n",
        "print(\"Divisão = \" + str(divisao))\n",
        "print(\"Resto da divisao de a por b = \" + str(resto))\n",
        "print(\"a elevado a b = \" + str(potencia))"
      ],
      "metadata": {
        "id": "SaG1j1qRM7H4"
      },
      "execution_count": null,
      "outputs": []
    },
    {
      "cell_type": "markdown",
      "source": [
        "#**Exemplo 03** [Acessar Fluxograma](https://github.com/igarashimassaki/LinguagemPython/blob/main/LP02_INTRODU%C3%87%C3%83O_%C3%80_LINGUAGEM_DE_PROGRAMA%C3%87%C3%83O_PYTHON%20-%20Exemplo03.pdf)\n",
        "Crie um código de programa em linguagem Python para Solicitar dois valores de nota p1 e p2 e em seguida calcular e exibir o resultado da média destas notas."
      ],
      "metadata": {
        "id": "kycqq1v3Uc6X"
      }
    },
    {
      "cell_type": "code",
      "source": [
        "#ENTRADAS DO PROGRAMA\n",
        "p1 = float(input(\"Digite nota p1:\"))\n",
        "p2 = float(input(\"Digite nota p2:\"))\n",
        "#PROCESSAMENTO\n",
        "m = (p1+p2)/2.\n",
        "#SAÍDA NA TELA\n",
        "print(\"Média = \" + str(m))"
      ],
      "metadata": {
        "id": "Fnwqhe3AUefs"
      },
      "execution_count": null,
      "outputs": []
    },
    {
      "cell_type": "markdown",
      "source": [
        "#**Referências Bibliográficas**\n",
        "[01](https://www.ibm.com/topics/software-development)\n",
        "\n",
        "[02](https://www.freecodecamp.org/portuguese/news/linguagens-de-programacao-interpretadas-x-compiladas-qual-e-a-diferenca/)\n",
        "\n",
        "[03](https://www.w3schools.com/git/git_intro.asp?remote=github)\n"
      ],
      "metadata": {
        "id": "eOa1aAw8iq5S"
      }
    }
  ]
}